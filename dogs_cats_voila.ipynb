{
  "nbformat": 4,
  "nbformat_minor": 0,
  "metadata": {
    "colab": {
      "provenance": [],
      "authorship_tag": "ABX9TyMndCINV+vZeexnKI0IF6I6",
      "include_colab_link": true
    },
    "kernelspec": {
      "name": "python3",
      "display_name": "Python 3"
    },
    "language_info": {
      "name": "python"
    },
    "widgets": {
      "application/vnd.jupyter.widget-state+json": {
        "1cf893ab72874f4993788f5d7c9c99ad": {
          "model_module": "@jupyter-widgets/controls",
          "model_name": "VBoxModel",
          "model_module_version": "1.5.0",
          "state": {
            "_dom_classes": [],
            "_model_module": "@jupyter-widgets/controls",
            "_model_module_version": "1.5.0",
            "_model_name": "VBoxModel",
            "_view_count": null,
            "_view_module": "@jupyter-widgets/controls",
            "_view_module_version": "1.5.0",
            "_view_name": "VBoxView",
            "box_style": "",
            "children": [
              "IPY_MODEL_da2b05645fa4485c8058ea83f67826f4",
              "IPY_MODEL_9031ff8afc714b26b5bedeaced6458f8",
              "IPY_MODEL_2ed9895e722c43e3a0a5009bd7e47189",
              "IPY_MODEL_4df305ce0fbf4479a6987df31a04cd4c",
              "IPY_MODEL_a544d002e6a84a57be91c8299cadfbad"
            ],
            "layout": "IPY_MODEL_2729d1b5ff2b4819a4cb0daf7e2db78e"
          }
        },
        "da2b05645fa4485c8058ea83f67826f4": {
          "model_module": "@jupyter-widgets/controls",
          "model_name": "LabelModel",
          "model_module_version": "1.5.0",
          "state": {
            "_dom_classes": [],
            "_model_module": "@jupyter-widgets/controls",
            "_model_module_version": "1.5.0",
            "_model_name": "LabelModel",
            "_view_count": null,
            "_view_module": "@jupyter-widgets/controls",
            "_view_module_version": "1.5.0",
            "_view_name": "LabelView",
            "description": "",
            "description_tooltip": null,
            "layout": "IPY_MODEL_d3bb95b7178b4f579e2a999bc3401d58",
            "placeholder": "​",
            "style": "IPY_MODEL_1efd9a7802c54a6194d0afef486e6678",
            "value": "Upload an Image to Classify"
          }
        },
        "9031ff8afc714b26b5bedeaced6458f8": {
          "model_module": "@jupyter-widgets/controls",
          "model_name": "FileUploadModel",
          "model_module_version": "1.5.0",
          "state": {
            "_counter": 1,
            "_dom_classes": [],
            "_model_module": "@jupyter-widgets/controls",
            "_model_module_version": "1.5.0",
            "_model_name": "FileUploadModel",
            "_view_count": null,
            "_view_module": "@jupyter-widgets/controls",
            "_view_module_version": "1.5.0",
            "_view_name": "FileUploadView",
            "accept": "",
            "button_style": "",
            "data": [
              null
            ],
            "description": "Upload Image",
            "description_tooltip": null,
            "disabled": false,
            "error": "",
            "icon": "upload",
            "layout": "IPY_MODEL_68615aa5d058445a97287420135cb76e",
            "metadata": [
              {
                "name": "bus.png",
                "type": "image/png",
                "size": 41185,
                "lastModified": 1698633571000
              }
            ],
            "multiple": false,
            "style": "IPY_MODEL_0ad0515b1b32401d9c09d35a34332cb2"
          }
        },
        "2ed9895e722c43e3a0a5009bd7e47189": {
          "model_module": "@jupyter-widgets/controls",
          "model_name": "ButtonModel",
          "model_module_version": "1.5.0",
          "state": {
            "_dom_classes": [],
            "_model_module": "@jupyter-widgets/controls",
            "_model_module_version": "1.5.0",
            "_model_name": "ButtonModel",
            "_view_count": null,
            "_view_module": "@jupyter-widgets/controls",
            "_view_module_version": "1.5.0",
            "_view_name": "ButtonView",
            "button_style": "",
            "description": "Classify",
            "disabled": false,
            "icon": "",
            "layout": "IPY_MODEL_a6b8763810ea476dbb9994ee4ce95208",
            "style": "IPY_MODEL_5eee733deed34457955bfcf1da19b246",
            "tooltip": ""
          }
        },
        "4df305ce0fbf4479a6987df31a04cd4c": {
          "model_module": "@jupyter-widgets/output",
          "model_name": "OutputModel",
          "model_module_version": "1.0.0",
          "state": {
            "_dom_classes": [],
            "_model_module": "@jupyter-widgets/output",
            "_model_module_version": "1.0.0",
            "_model_name": "OutputModel",
            "_view_count": null,
            "_view_module": "@jupyter-widgets/output",
            "_view_module_version": "1.0.0",
            "_view_name": "OutputView",
            "layout": "IPY_MODEL_64e0b557fdf74798bfcc350cd8c1cb79",
            "msg_id": "",
            "outputs": [
              {
                "output_type": "display_data",
                "data": {
                  "text/plain": "<PIL.Image.Image image mode=RGB size=128x85>",
                  "image/png": "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\n",
                  "image/jpeg": "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\n"
                },
                "metadata": {}
              }
            ]
          }
        },
        "a544d002e6a84a57be91c8299cadfbad": {
          "model_module": "@jupyter-widgets/controls",
          "model_name": "LabelModel",
          "model_module_version": "1.5.0",
          "state": {
            "_dom_classes": [],
            "_model_module": "@jupyter-widgets/controls",
            "_model_module_version": "1.5.0",
            "_model_name": "LabelModel",
            "_view_count": null,
            "_view_module": "@jupyter-widgets/controls",
            "_view_module_version": "1.5.0",
            "_view_name": "LabelView",
            "description": "",
            "description_tooltip": null,
            "layout": "IPY_MODEL_1a7b0f8a32304ff7abc9df57f9126ec9",
            "placeholder": "​",
            "style": "IPY_MODEL_31c49ba15a7b405898e9b74d094509fa",
            "value": "Prediction: True; Probability: 0.7292"
          }
        },
        "2729d1b5ff2b4819a4cb0daf7e2db78e": {
          "model_module": "@jupyter-widgets/base",
          "model_name": "LayoutModel",
          "model_module_version": "1.2.0",
          "state": {
            "_model_module": "@jupyter-widgets/base",
            "_model_module_version": "1.2.0",
            "_model_name": "LayoutModel",
            "_view_count": null,
            "_view_module": "@jupyter-widgets/base",
            "_view_module_version": "1.2.0",
            "_view_name": "LayoutView",
            "align_content": null,
            "align_items": null,
            "align_self": null,
            "border": null,
            "bottom": null,
            "display": null,
            "flex": null,
            "flex_flow": null,
            "grid_area": null,
            "grid_auto_columns": null,
            "grid_auto_flow": null,
            "grid_auto_rows": null,
            "grid_column": null,
            "grid_gap": null,
            "grid_row": null,
            "grid_template_areas": null,
            "grid_template_columns": null,
            "grid_template_rows": null,
            "height": null,
            "justify_content": null,
            "justify_items": null,
            "left": null,
            "margin": null,
            "max_height": null,
            "max_width": null,
            "min_height": null,
            "min_width": null,
            "object_fit": null,
            "object_position": null,
            "order": null,
            "overflow": null,
            "overflow_x": null,
            "overflow_y": null,
            "padding": null,
            "right": null,
            "top": null,
            "visibility": null,
            "width": null
          }
        },
        "d3bb95b7178b4f579e2a999bc3401d58": {
          "model_module": "@jupyter-widgets/base",
          "model_name": "LayoutModel",
          "model_module_version": "1.2.0",
          "state": {
            "_model_module": "@jupyter-widgets/base",
            "_model_module_version": "1.2.0",
            "_model_name": "LayoutModel",
            "_view_count": null,
            "_view_module": "@jupyter-widgets/base",
            "_view_module_version": "1.2.0",
            "_view_name": "LayoutView",
            "align_content": null,
            "align_items": null,
            "align_self": null,
            "border": null,
            "bottom": null,
            "display": null,
            "flex": null,
            "flex_flow": null,
            "grid_area": null,
            "grid_auto_columns": null,
            "grid_auto_flow": null,
            "grid_auto_rows": null,
            "grid_column": null,
            "grid_gap": null,
            "grid_row": null,
            "grid_template_areas": null,
            "grid_template_columns": null,
            "grid_template_rows": null,
            "height": null,
            "justify_content": null,
            "justify_items": null,
            "left": null,
            "margin": null,
            "max_height": null,
            "max_width": null,
            "min_height": null,
            "min_width": null,
            "object_fit": null,
            "object_position": null,
            "order": null,
            "overflow": null,
            "overflow_x": null,
            "overflow_y": null,
            "padding": null,
            "right": null,
            "top": null,
            "visibility": null,
            "width": null
          }
        },
        "1efd9a7802c54a6194d0afef486e6678": {
          "model_module": "@jupyter-widgets/controls",
          "model_name": "DescriptionStyleModel",
          "model_module_version": "1.5.0",
          "state": {
            "_model_module": "@jupyter-widgets/controls",
            "_model_module_version": "1.5.0",
            "_model_name": "DescriptionStyleModel",
            "_view_count": null,
            "_view_module": "@jupyter-widgets/base",
            "_view_module_version": "1.2.0",
            "_view_name": "StyleView",
            "description_width": ""
          }
        },
        "68615aa5d058445a97287420135cb76e": {
          "model_module": "@jupyter-widgets/base",
          "model_name": "LayoutModel",
          "model_module_version": "1.2.0",
          "state": {
            "_model_module": "@jupyter-widgets/base",
            "_model_module_version": "1.2.0",
            "_model_name": "LayoutModel",
            "_view_count": null,
            "_view_module": "@jupyter-widgets/base",
            "_view_module_version": "1.2.0",
            "_view_name": "LayoutView",
            "align_content": null,
            "align_items": null,
            "align_self": null,
            "border": null,
            "bottom": null,
            "display": null,
            "flex": null,
            "flex_flow": null,
            "grid_area": null,
            "grid_auto_columns": null,
            "grid_auto_flow": null,
            "grid_auto_rows": null,
            "grid_column": null,
            "grid_gap": null,
            "grid_row": null,
            "grid_template_areas": null,
            "grid_template_columns": null,
            "grid_template_rows": null,
            "height": null,
            "justify_content": null,
            "justify_items": null,
            "left": null,
            "margin": null,
            "max_height": null,
            "max_width": null,
            "min_height": null,
            "min_width": null,
            "object_fit": null,
            "object_position": null,
            "order": null,
            "overflow": null,
            "overflow_x": null,
            "overflow_y": null,
            "padding": null,
            "right": null,
            "top": null,
            "visibility": null,
            "width": null
          }
        },
        "0ad0515b1b32401d9c09d35a34332cb2": {
          "model_module": "@jupyter-widgets/controls",
          "model_name": "ButtonStyleModel",
          "model_module_version": "1.5.0",
          "state": {
            "_model_module": "@jupyter-widgets/controls",
            "_model_module_version": "1.5.0",
            "_model_name": "ButtonStyleModel",
            "_view_count": null,
            "_view_module": "@jupyter-widgets/base",
            "_view_module_version": "1.2.0",
            "_view_name": "StyleView",
            "button_color": null,
            "font_weight": ""
          }
        },
        "a6b8763810ea476dbb9994ee4ce95208": {
          "model_module": "@jupyter-widgets/base",
          "model_name": "LayoutModel",
          "model_module_version": "1.2.0",
          "state": {
            "_model_module": "@jupyter-widgets/base",
            "_model_module_version": "1.2.0",
            "_model_name": "LayoutModel",
            "_view_count": null,
            "_view_module": "@jupyter-widgets/base",
            "_view_module_version": "1.2.0",
            "_view_name": "LayoutView",
            "align_content": null,
            "align_items": null,
            "align_self": null,
            "border": null,
            "bottom": null,
            "display": null,
            "flex": null,
            "flex_flow": null,
            "grid_area": null,
            "grid_auto_columns": null,
            "grid_auto_flow": null,
            "grid_auto_rows": null,
            "grid_column": null,
            "grid_gap": null,
            "grid_row": null,
            "grid_template_areas": null,
            "grid_template_columns": null,
            "grid_template_rows": null,
            "height": null,
            "justify_content": null,
            "justify_items": null,
            "left": null,
            "margin": null,
            "max_height": null,
            "max_width": null,
            "min_height": null,
            "min_width": null,
            "object_fit": null,
            "object_position": null,
            "order": null,
            "overflow": null,
            "overflow_x": null,
            "overflow_y": null,
            "padding": null,
            "right": null,
            "top": null,
            "visibility": null,
            "width": null
          }
        },
        "5eee733deed34457955bfcf1da19b246": {
          "model_module": "@jupyter-widgets/controls",
          "model_name": "ButtonStyleModel",
          "model_module_version": "1.5.0",
          "state": {
            "_model_module": "@jupyter-widgets/controls",
            "_model_module_version": "1.5.0",
            "_model_name": "ButtonStyleModel",
            "_view_count": null,
            "_view_module": "@jupyter-widgets/base",
            "_view_module_version": "1.2.0",
            "_view_name": "StyleView",
            "button_color": null,
            "font_weight": ""
          }
        },
        "1a7b0f8a32304ff7abc9df57f9126ec9": {
          "model_module": "@jupyter-widgets/base",
          "model_name": "LayoutModel",
          "model_module_version": "1.2.0",
          "state": {
            "_model_module": "@jupyter-widgets/base",
            "_model_module_version": "1.2.0",
            "_model_name": "LayoutModel",
            "_view_count": null,
            "_view_module": "@jupyter-widgets/base",
            "_view_module_version": "1.2.0",
            "_view_name": "LayoutView",
            "align_content": null,
            "align_items": null,
            "align_self": null,
            "border": null,
            "bottom": null,
            "display": null,
            "flex": null,
            "flex_flow": null,
            "grid_area": null,
            "grid_auto_columns": null,
            "grid_auto_flow": null,
            "grid_auto_rows": null,
            "grid_column": null,
            "grid_gap": null,
            "grid_row": null,
            "grid_template_areas": null,
            "grid_template_columns": null,
            "grid_template_rows": null,
            "height": null,
            "justify_content": null,
            "justify_items": null,
            "left": null,
            "margin": null,
            "max_height": null,
            "max_width": null,
            "min_height": null,
            "min_width": null,
            "object_fit": null,
            "object_position": null,
            "order": null,
            "overflow": null,
            "overflow_x": null,
            "overflow_y": null,
            "padding": null,
            "right": null,
            "top": null,
            "visibility": null,
            "width": null
          }
        },
        "31c49ba15a7b405898e9b74d094509fa": {
          "model_module": "@jupyter-widgets/controls",
          "model_name": "DescriptionStyleModel",
          "model_module_version": "1.5.0",
          "state": {
            "_model_module": "@jupyter-widgets/controls",
            "_model_module_version": "1.5.0",
            "_model_name": "DescriptionStyleModel",
            "_view_count": null,
            "_view_module": "@jupyter-widgets/base",
            "_view_module_version": "1.2.0",
            "_view_name": "StyleView",
            "description_width": ""
          }
        },
        "64e0b557fdf74798bfcc350cd8c1cb79": {
          "model_module": "@jupyter-widgets/base",
          "model_name": "LayoutModel",
          "model_module_version": "1.2.0",
          "state": {
            "_model_module": "@jupyter-widgets/base",
            "_model_module_version": "1.2.0",
            "_model_name": "LayoutModel",
            "_view_count": null,
            "_view_module": "@jupyter-widgets/base",
            "_view_module_version": "1.2.0",
            "_view_name": "LayoutView",
            "align_content": null,
            "align_items": null,
            "align_self": null,
            "border": null,
            "bottom": null,
            "display": null,
            "flex": null,
            "flex_flow": null,
            "grid_area": null,
            "grid_auto_columns": null,
            "grid_auto_flow": null,
            "grid_auto_rows": null,
            "grid_column": null,
            "grid_gap": null,
            "grid_row": null,
            "grid_template_areas": null,
            "grid_template_columns": null,
            "grid_template_rows": null,
            "height": null,
            "justify_content": null,
            "justify_items": null,
            "left": null,
            "margin": null,
            "max_height": null,
            "max_width": null,
            "min_height": null,
            "min_width": null,
            "object_fit": null,
            "object_position": null,
            "order": null,
            "overflow": null,
            "overflow_x": null,
            "overflow_y": null,
            "padding": null,
            "right": null,
            "top": null,
            "visibility": null,
            "width": null
          }
        }
      }
    }
  },
  "cells": [
    {
      "cell_type": "markdown",
      "metadata": {
        "id": "view-in-github",
        "colab_type": "text"
      },
      "source": [
        "<a href=\"https://colab.research.google.com/github/mgialousis/fastai_chapter2/blob/main/dogs_cats_voila.ipynb\" target=\"_parent\"><img src=\"https://colab.research.google.com/assets/colab-badge.svg\" alt=\"Open In Colab\"/></a>"
      ]
    },
    {
      "cell_type": "code",
      "source": [
        "# Install necessary packages\n",
        "#!pip install -Uqq fastai\n",
        "#!pip install voila ipywidgets\n",
        "#!jupyter serverextension enable --sys-prefix voila\n",
        "\n",
        "# Import required libraries\n",
        "from fastai.vision.all import *\n",
        "from ipywidgets import widgets\n",
        "from pathlib import Path\n",
        "from fastai.vision.all import *"
      ],
      "metadata": {
        "id": "NUUFq_xc92r0"
      },
      "execution_count": null,
      "outputs": []
    },
    {
      "cell_type": "code",
      "source": [
        "def is_cat(x): return x[0].isupper()"
      ],
      "metadata": {
        "id": "-WF5cBo8AERi"
      },
      "execution_count": null,
      "outputs": []
    },
    {
      "cell_type": "code",
      "source": [
        "# Load the trained model\n",
        "path = Path()\n",
        "path.ls(file_exts='.pkl')\n",
        "learn_inf = load_learner(path/'cat_model.pkl')  # Ensure your model file is in the same directory"
      ],
      "metadata": {
        "id": "m2u2lwdo-A8D"
      },
      "execution_count": null,
      "outputs": []
    },
    {
      "cell_type": "code",
      "execution_count": null,
      "metadata": {
        "colab": {
          "base_uri": "https://localhost:8080/",
          "height": 230,
          "referenced_widgets": [
            "1cf893ab72874f4993788f5d7c9c99ad",
            "da2b05645fa4485c8058ea83f67826f4",
            "9031ff8afc714b26b5bedeaced6458f8",
            "2ed9895e722c43e3a0a5009bd7e47189",
            "4df305ce0fbf4479a6987df31a04cd4c",
            "a544d002e6a84a57be91c8299cadfbad",
            "2729d1b5ff2b4819a4cb0daf7e2db78e",
            "d3bb95b7178b4f579e2a999bc3401d58",
            "1efd9a7802c54a6194d0afef486e6678",
            "68615aa5d058445a97287420135cb76e",
            "0ad0515b1b32401d9c09d35a34332cb2",
            "a6b8763810ea476dbb9994ee4ce95208",
            "5eee733deed34457955bfcf1da19b246",
            "1a7b0f8a32304ff7abc9df57f9126ec9",
            "31c49ba15a7b405898e9b74d094509fa",
            "64e0b557fdf74798bfcc350cd8c1cb79"
          ]
        },
        "id": "z7ymj9oD9l45",
        "outputId": "f594f44f-9e15-4486-f13a-4fc1d98e4e67"
      },
      "outputs": [
        {
          "output_type": "display_data",
          "data": {
            "text/plain": [
              "VBox(children=(Label(value='Upload an Image to Classify'), FileUpload(value={}, description='Upload Image'), B…"
            ],
            "application/vnd.jupyter.widget-view+json": {
              "version_major": 2,
              "version_minor": 0,
              "model_id": "1cf893ab72874f4993788f5d7c9c99ad"
            }
          },
          "metadata": {}
        },
        {
          "output_type": "display_data",
          "data": {
            "text/plain": [
              "<IPython.core.display.HTML object>"
            ],
            "text/html": [
              "\n",
              "<style>\n",
              "    /* Turns off some styling */\n",
              "    progress {\n",
              "        /* gets rid of default border in Firefox and Opera. */\n",
              "        border: none;\n",
              "        /* Needs to be in here for Safari polyfill so background images work as expected. */\n",
              "        background-size: auto;\n",
              "    }\n",
              "    progress:not([value]), progress:not([value])::-webkit-progress-bar {\n",
              "        background: repeating-linear-gradient(45deg, #7e7e7e, #7e7e7e 10px, #5c5c5c 10px, #5c5c5c 20px);\n",
              "    }\n",
              "    .progress-bar-interrupted, .progress-bar-interrupted::-webkit-progress-bar {\n",
              "        background: #F44336;\n",
              "    }\n",
              "</style>\n"
            ]
          },
          "metadata": {}
        },
        {
          "output_type": "display_data",
          "data": {
            "text/plain": [
              "<IPython.core.display.HTML object>"
            ],
            "text/html": []
          },
          "metadata": {}
        }
      ],
      "source": [
        "# Create upload button\n",
        "btn_upload = widgets.FileUpload(description=\"Upload Image\")\n",
        "\n",
        "# Create output widget to display the uploaded image\n",
        "out_pl = widgets.Output()\n",
        "\n",
        "# Create label to display prediction results\n",
        "lbl_pred = widgets.Label()\n",
        "\n",
        "# Create classify button\n",
        "btn_run = widgets.Button(description=\"Classify\")\n",
        "\n",
        "# Function to handle classification\n",
        "def on_click_classify(change):\n",
        "    \"\"\"Classifies the uploaded image and displays the prediction.\"\"\"\n",
        "    if btn_upload.data:\n",
        "        img = PILImage.create(btn_upload.data[-1])  # Load the uploaded image\n",
        "        out_pl.clear_output()\n",
        "        with out_pl:\n",
        "            display(img.to_thumb(128,128))  # Display image as thumbnail\n",
        "        pred, pred_idx, probs = learn_inf.predict(img)  # Make prediction\n",
        "        lbl_pred.value = f'Prediction: {pred}; Probability: {probs[pred_idx]:.04f}'\n",
        "\n",
        "# Attach function to button click event\n",
        "btn_run.on_click(on_click_classify)\n",
        "\n",
        "# Create app layout\n",
        "ui = widgets.VBox([\n",
        "    widgets.Label(\"Upload an Image to Classify\"),\n",
        "    btn_upload, btn_run, out_pl, lbl_pred\n",
        "])\n",
        "\n",
        "# Display the UI\n",
        "display(ui)"
      ]
    },
    {
      "cell_type": "code",
      "source": [],
      "metadata": {
        "id": "_gmQfqGT9qDf"
      },
      "execution_count": null,
      "outputs": []
    }
  ]
}